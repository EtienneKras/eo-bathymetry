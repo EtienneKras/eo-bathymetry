{
 "cells": [
  {
   "cell_type": "code",
   "execution_count": 1,
   "metadata": {},
   "outputs": [],
   "source": [
    "# -*- coding: utf-8 -*-\n",
    "\"\"\"\n",
    "@author: Etienne Kras, open in SDB_env\n",
    "\"\"\"\n",
    "\n",
    "# imports \n",
    "import numpy as np\n",
    "import matplotlib.pyplot as plt\n",
    "import geopandas as gpd\n",
    "import pandas as pd\n",
    "import gdal\n",
    "import os\n",
    "import sys\n",
    "import ee\n",
    "import geemap\n",
    "import geojson\n",
    "import datetime\n",
    "import time\n",
    "\n",
    "from geojson import Feature, FeatureCollection, dump\n",
    "from shapely.geometry import Polygon\n",
    "from matplotlib.colors import ListedColormap\n",
    "from scipy import stats\n",
    "from pathlib import Path\n",
    "from eepackages.applications import bathymetry\n",
    "from eepackages.utils import download_image_collection, download_image_collection_thumb\n",
    "from dateutil.relativedelta import *\n",
    "from google.oauth2.service_account import Credentials"
   ]
  },
  {
   "cell_type": "code",
   "execution_count": null,
   "metadata": {},
   "outputs": [],
   "source": [
    "# project toggles\n",
    "file_fol = r'p:\\satellite-derived-bathymetry\\data' # input folder for the output data\n",
    "xtile = 'x264' # fill in when toggled spatial\n",
    "ytile = 'y165' # fill in when toggled spatial \n",
    "draw_AoI = 0\n",
    "project_name = 'Friese_Zeegat'\n",
    "\n",
    "# composite image toggles\n",
    "start_date = '2015-01-01' # start date of the composites\n",
    "stop_date = '2020-10-01' # end date of the composites\n",
    "compo_int = 3 # composite interval [months]\n",
    "compo_len = 24 # composite length [months]\n",
    "scale = 19.109  # output resolution of the image [m]"
   ]
  },
  {
   "cell_type": "markdown",
   "metadata": {},
   "source": [
    "# Pre-processing using the API (TO BE FINISHED)"
   ]
  },
  {
   "cell_type": "code",
   "execution_count": null,
   "metadata": {},
   "outputs": [],
   "source": [
    "# specify or load Area of Interest (AoI)\n",
    "\n",
    "Map = geemap.Map(center=(52.643246, 5.060993), zoom=8) # initialize map with base in Hoorn\n",
    "\n",
    "if draw_AoI == 1:\n",
    "    print('Please draw a polygon somewhere in a water body') # identifier\n",
    "if draw_AoI == 0:\n",
    "    # open AoI\n",
    "    print('Loading and visualizing AoI') #identifier\n",
    "    AoIee = geemap.geojson_to_ee(os.path.join(os.getcwd(),'RWS_AOI',project_name+'.geojson'))\n",
    "    Map.addLayer(AoIee, {}, 'AoI')\n",
    "\n",
    "Map # show map"
   ]
  },
  {
   "cell_type": "code",
   "execution_count": null,
   "metadata": {},
   "outputs": [],
   "source": [
    "# construct the AoI if polygon is drawn in cell above\n",
    "\n",
    "if draw_AoI == 1:\n",
    "    \n",
    "    print('Constructing AoI from drawn polygon') # identifier\n",
    "    \n",
    "    # get AoI \n",
    "    AoIee = ee.FeatureCollection(Map.draw_features) # make featurecollection\n",
    "    AoI = Polygon(AoIee.getInfo()['features'][0]['geometry']['coordinates'][0]) # create AoI shapefile\n",
    "\n",
    "    # export AoI\n",
    "    features = []\n",
    "    features.append(Feature(geometry=AoI, properties={\"AoI\": project_name}))\n",
    "    feature_collection = FeatureCollection(features)\n",
    "    with open(os.path.join(os.getcwd(),'RWS_AOI',project_name+'.geojson'), 'w') as f: # geojson\n",
    "        dump(feature_collection, f)\n",
    "    gdr = gpd.GeoDataFrame({'properties':{'AoI': project_name}, 'geometry': AoI}, crs='EPSG:4326') #shp\n",
    "    gdr.to_file(os.path.join(os.getcwd(),'RWS_AOI',project_name+'.shp'))\n",
    "    bounds = ee.Geometry.Polgyon([[[a,b] for a, b in zip(*AoI.exterior.coords.xy)]])\n",
    "    \n",
    "if draw_AoI == 0:\n",
    "    print('Reconstructing AoI from loaded file')\n",
    "    # get AoI\n",
    "    with open(os.path.join(os.getcwd(),'RWS_AOI',project_name+'.geojson')) as f:\n",
    "        AoIjson = geojson.load(f)\n",
    "    try: # drawn polygon in this script\n",
    "        AoI = Polygon(AoIjson['features'][0]['geometry']['coordinates'][0]) \n",
    "    except: # drawn in QGIS / ArcGIS and written to geojson there (client file)\n",
    "        AoI = Polygon(AoIjson['features'][0]['geometry']['coordinates'][0][0])\n",
    "    bounds = ee.Geometry.Polygon([[[a,b] for a, b in zip(*AoI.exterior.coords.xy)]])"
   ]
  },
  {
   "cell_type": "code",
   "execution_count": null,
   "metadata": {},
   "outputs": [],
   "source": [
    "# create composite subtidal images \n",
    "\n",
    "# image timeframes\n",
    "sdate = datetime.datetime.strptime(start_date,'%Y-%m-%d')\n",
    "edate = datetime.datetime.strptime(stop_date,'%Y-%m-%d')\n",
    "window_length = int((edate.year-sdate.year)*12+(edate.month-sdate.month))\n",
    "srangedates = pd.date_range(start_date, freq='%sMS'%(compo_int), periods=int((window_length-compo_len)/3)+1).strftime('%Y-%m-%d').tolist()\n",
    "erangedates = pd.date_range((sdate+relativedelta(months=compo_len)).strftime('%Y-%m-%d'), freq='%sMS'%(compo_int), periods=int((window_length-compo_len)/3)+1).strftime('%Y-%m-%d').tolist()\n",
    "\n",
    "sdb = bathymetry.Bathymetry() # initialize sdb instance\n",
    "\n",
    "# save composite ee.Images to a list (note, these are not yet processed)\n",
    "image_list = []\n",
    "for starts, ends in zip(srangedates, erangedates):\n",
    "    \n",
    "    image = sdb.compute_inverse_depth(\n",
    "        bounds=bounds,\n",
    "        start=starts,\n",
    "        stop=ends,\n",
    "        scale=scale,\n",
    "        missions=['S2', 'L8'],\n",
    "        filter_masked=True,\n",
    "        skip_neighborhood_search=False,\n",
    "    ).clip(bounds) # clip to bounds only\n",
    "    \n",
    "    image_list.append(image)"
   ]
  },
  {
   "cell_type": "code",
   "execution_count": null,
   "metadata": {},
   "outputs": [],
   "source": [
    "# create empty imagecollection\n",
    "user_name = ee.data.getAssetRoots()[0][\"id\"].split(\"/\")[-1]\n",
    "asset_id = f'users/{user_name}/RSW_SDB/%s'%(project_name)\n",
    "try:\n",
    "    ee.data.createAsset({'type': 'Folder'}, '/'.join(asset_id.split('/')[:-1]))\n",
    "    #ee.data.createAsset({'type': 'ImageCollection'}, asset_id)\n",
    "except:\n",
    "    print('Asset was already created, cannot overwrite')"
   ]
  },
  {
   "cell_type": "code",
   "execution_count": null,
   "metadata": {},
   "outputs": [],
   "source": [
    "# save composites various locations (depending on your preference, select )\n",
    "store_asset = 1 # toggle 1 to save to assets (Google Earth Engine)\n",
    "store_gcs = 0 # toggle 1 to save to cloud storage (Google Earth Engine)\n",
    "\n",
    "# TODO: fix writing to an image in imagecollection, not only one image..\n",
    "\n",
    "# to assets --> visualize in Code Editor UI\n",
    "if store_asset == 1:\n",
    "    task = ee.batch.Export.image.toAsset(**{\n",
    "        'image': image_list[0],\n",
    "        'description': '%s_%s_%s'%(project_name, srangedates[0], erangedates[0]),\n",
    "        'scale': scale,\n",
    "        'region': bounds,\n",
    "        'assetId': asset_id,\n",
    "        'maxPixels': 1e11,\n",
    "        'crs': 'EPSG:3857'\n",
    "    })\n",
    "    task.start()\n",
    "\n",
    "# to cloud storage --> visualize in QGIS / ArcGIS (download via cloud storage platform or enable local downloading)\n",
    "# TODO: use the service account for this\n",
    "if store_gcs == 1:\n",
    "    #task = ee.batch.Export.image.toCloudStorage(**{\n",
    "    #    'image': ee.Image(img), \n",
    "    #    'description': asset_name + '_' + ee.Image(img).get('system:index').getInfo(),\n",
    "    #    'scale': ee.Image(img).projection().nominalScale().getInfo(),\n",
    "    #    'region': ee.Image(img).geometry().getInfo()['coordinates'],\n",
    "    #    'fileNamePrefix': project + '/' + asset_name + '_' + ee.Image(img).get('system:index').getInfo(),\n",
    "    #    'fileFormat': 'GeoTIFF',\n",
    "    #    'bucket': 'jip_calm_sdb',\n",
    "    #    'formatOptions': {'cloudOptimized': True}, # enables easy QGIS plotting\n",
    "    #    'maxPixels': 1e10,\n",
    "    #    'crs': 'EPSG:3857',\n",
    "    #})\n",
    "    #task.start()"
   ]
  },
  {
   "cell_type": "code",
   "execution_count": null,
   "metadata": {},
   "outputs": [],
   "source": [
    "local_store = 0 # toggle 1 to save to local drive"
   ]
  },
  {
   "cell_type": "code",
   "execution_count": null,
   "metadata": {},
   "outputs": [],
   "source": [
    "task_status = task.status()\n",
    "while task_status['state'] in ['READY', 'RUNNING']:\n",
    "    print(task_status)\n",
    "    time.sleep(30)\n",
    "    task_status = task.status()\n",
    "else:\n",
    "    print(task.status())"
   ]
  },
  {
   "cell_type": "code",
   "execution_count": null,
   "metadata": {},
   "outputs": [],
   "source": [
    "# show image (indicative)\n",
    "AoIcent = AoIee.geometry().centroid().coordinates()\n",
    "Map = geemap.Map(center=(AoIcent.get(1).getInfo(), AoIcent.get(0).getInfo()), zoom=12) \n",
    "Map.addLayer(AoIee, {}, 'AoI')\n",
    "Map.addLayer(image.select('red'), {}, 'composite')#, { \"min\": min, \"max\": max }, 'red-green-blue')\n",
    "Map "
   ]
  },
  {
   "cell_type": "code",
   "execution_count": null,
   "metadata": {},
   "outputs": [],
   "source": [
    "# also put in toggle for intertidal or subtidal assessment, for intertidal see example: https://github.com/openearth/eo-bathymetry/blob/master/notebooks/rws-bathymetry/intertidal_bathymetry.ipynb"
   ]
  },
  {
   "cell_type": "code",
   "execution_count": null,
   "metadata": {},
   "outputs": [],
   "source": [
    "# for service account GCS writing see for example: https://github.com/openearth/eo-bathymetry/blob/master/notebooks/rws-bathymetry/test_service_user.ipynb"
   ]
  },
  {
   "cell_type": "code",
   "execution_count": null,
   "metadata": {},
   "outputs": [],
   "source": [
    "# finish subtidal bathy downloading (see for example: https://github.com/openearth/eo-bathymetry/blob/master/notebooks/rws-bathymetry/bathymetry_subtidal.ipynb)"
   ]
  },
  {
   "cell_type": "code",
   "execution_count": null,
   "metadata": {},
   "outputs": [],
   "source": [
    "# enable single image downloading in the created composites.. (see for example: https://github.com/openearth/eo-bathymetry/blob/master/notebooks/rws-bathymetry/Download_SDB_ImageCollection.ipynb)"
   ]
  },
  {
   "cell_type": "code",
   "execution_count": null,
   "metadata": {},
   "outputs": [],
   "source": [
    "# see scheme at p:\\satellite-derived-bathymetry\\ppt\\acces_api.pptx what this scripts needs to do"
   ]
  },
  {
   "cell_type": "code",
   "execution_count": null,
   "metadata": {},
   "outputs": [],
   "source": []
  },
  {
   "cell_type": "code",
   "execution_count": null,
   "metadata": {},
   "outputs": [],
   "source": []
  }
 ],
 "metadata": {
  "kernelspec": {
   "display_name": "Python 3 (ipykernel)",
   "language": "python",
   "name": "python3"
  },
  "language_info": {
   "codemirror_mode": {
    "name": "ipython",
    "version": 3
   },
   "file_extension": ".py",
   "mimetype": "text/x-python",
   "name": "python",
   "nbconvert_exporter": "python",
   "pygments_lexer": "ipython3",
   "version": "3.8.12"
  }
 },
 "nbformat": 4,
 "nbformat_minor": 2
}
